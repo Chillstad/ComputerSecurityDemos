{
 "cells": [
  {
   "cell_type": "code",
   "execution_count": 75,
   "id": "4c720af1",
   "metadata": {},
   "outputs": [],
   "source": [
    "from bcrypt import checkpw, gensalt, hashpw"
   ]
  },
  {
   "cell_type": "markdown",
   "id": "4116bcd8",
   "metadata": {},
   "source": [
    "### Password Salting and Hashing"
   ]
  },
  {
   "cell_type": "code",
   "execution_count": 76,
   "id": "908f0c0e",
   "metadata": {},
   "outputs": [],
   "source": [
    "password = \"Gonzaga\""
   ]
  },
  {
   "cell_type": "code",
   "execution_count": 77,
   "id": "a306bbd6",
   "metadata": {},
   "outputs": [
    {
     "name": "stdout",
     "output_type": "stream",
     "text": [
      "Password:          Gonzaga\n",
      "Salt:              $2b$12$W.p7he7U9xZO8NElfNSEpe\n",
      "Salted Password:   $2b$12$W.p7he7U9xZO8NElfNSEpeGonzaga\n"
     ]
    }
   ],
   "source": [
    "encoded_password = password.encode('utf-8')\n",
    "print(\"Password:         \", encoded_password.decode('utf-8'))\n",
    "\n",
    "salt = gensalt()\n",
    "print(\"Salt:             \", salt.decode('utf-8'))\n",
    "print(\"Salted Password:  \", (salt+encoded_password).decode('utf-8'))"
   ]
  },
  {
   "cell_type": "code",
   "execution_count": 78,
   "id": "429f4292",
   "metadata": {},
   "outputs": [
    {
     "name": "stdout",
     "output_type": "stream",
     "text": [
      "Hashed Password:   $2b$12$W.p7he7U9xZO8NElfNSEpeQm22URY5Q40gBBuzXfrAMDKvi7djgbS\n"
     ]
    }
   ],
   "source": [
    "hashed_password = hashpw(encoded_password, salt)\n",
    "print(\"Hashed Password:  \", hashed_password.decode('utf-8'))"
   ]
  },
  {
   "cell_type": "markdown",
   "id": "95341330",
   "metadata": {},
   "source": [
    "### Duplicate Passwords"
   ]
  },
  {
   "cell_type": "code",
   "execution_count": 79,
   "id": "d4ca3223",
   "metadata": {},
   "outputs": [
    {
     "name": "stdout",
     "output_type": "stream",
     "text": [
      "Original Password:    Gonzaga\n",
      "New User's Password:  Gonzaga\n"
     ]
    }
   ],
   "source": [
    "print(\"Original Password:   \", encoded_password.decode('utf-8'))\n",
    "\n",
    "new_encoded_password = encoded_password\n",
    "print(\"New User's Password: \", new_encoded_password.decode('utf-8'))"
   ]
  },
  {
   "cell_type": "code",
   "execution_count": 80,
   "id": "17c96435",
   "metadata": {},
   "outputs": [
    {
     "name": "stdout",
     "output_type": "stream",
     "text": [
      "Hashed Password:             $2b$12$6fVQXRv8nFQF1Gb14ZP4luvIXyohnBKOiBHygEEE99WvcUVvpEcwe\n",
      "New User's Hashed Password:  $2b$12$6fVQXRv8nFQF1Gb14ZP4luvIXyohnBKOiBHygEEE99WvcUVvpEcwe\n"
     ]
    }
   ],
   "source": [
    "salt = gensalt()\n",
    "\n",
    "hashed_password = hashpw(encoded_password, salt)\n",
    "print(\"Hashed Password:            \", hashed_password.decode('utf-8'))\n",
    "\n",
    "new_hashed_password = hashpw(new_encoded_password, salt)\n",
    "print(\"New User's Hashed Password: \", new_hashed_password.decode('utf-8'))"
   ]
  },
  {
   "cell_type": "markdown",
   "id": "847faba6",
   "metadata": {},
   "source": [
    "### Duplicate Passwords Separate Salt"
   ]
  },
  {
   "cell_type": "code",
   "execution_count": 81,
   "id": "82bc56a1",
   "metadata": {},
   "outputs": [
    {
     "name": "stdout",
     "output_type": "stream",
     "text": [
      "Hashed Password:             $2b$12$PxMvSCtbadMZySpilur0EuxdkT4haeDuFDQf51QgmwXMtpcH0c2JO\n",
      "New User's Hashed Password:  $2b$12$7QQYXzgYj8rJMza6iMny4.VR2bmWt5MTuDqSH224JpVPBYtI9JewS\n"
     ]
    }
   ],
   "source": [
    "salt = gensalt()\n",
    "new_salt = gensalt()\n",
    "\n",
    "hashed_password = hashpw(encoded_password, salt)\n",
    "print(\"Hashed Password:            \", hashed_password.decode('utf-8'))\n",
    "\n",
    "new_hashed_password = hashpw(new_encoded_password, new_salt)\n",
    "print(\"New User's Hashed Password: \", new_hashed_password.decode('utf-8'))"
   ]
  },
  {
   "cell_type": "markdown",
   "id": "2fb9b3a3",
   "metadata": {},
   "source": [
    "### Password Checking"
   ]
  },
  {
   "cell_type": "code",
   "execution_count": 84,
   "id": "695843ff",
   "metadata": {},
   "outputs": [
    {
     "name": "stdout",
     "output_type": "stream",
     "text": [
      "True\n"
     ]
    }
   ],
   "source": [
    "inputted_password = \"Gonzaga\"\n",
    "\n",
    "result = checkpw(inputted_password.encode('utf-8'), hashed_password)\n",
    "\n",
    "print(result)"
   ]
  }
 ],
 "metadata": {
  "kernelspec": {
   "display_name": "Python 3",
   "language": "python",
   "name": "python3"
  },
  "language_info": {
   "codemirror_mode": {
    "name": "ipython",
    "version": 3
   },
   "file_extension": ".py",
   "mimetype": "text/x-python",
   "name": "python",
   "nbconvert_exporter": "python",
   "pygments_lexer": "ipython3",
   "version": "3.10.12"
  }
 },
 "nbformat": 4,
 "nbformat_minor": 5
}
